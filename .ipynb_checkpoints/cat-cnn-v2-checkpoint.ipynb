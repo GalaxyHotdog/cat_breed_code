{
 "cells": [
  {
   "cell_type": "code",
   "execution_count": 1,
   "metadata": {
    "tags": [
     "imports"
    ]
   },
   "outputs": [],
   "source": [
    "from cat_cnn_component.cat_train import model_train\n",
    "from cat_cnn_component.cat_preprocessing import data_preprocessing, set_label\n",
    "from cat_cnn_component.cat_evaluate import model_evaluate\n",
    "from cat_cnn_component.cat_serve import model_serving\n",
    "import tensorflow as tf"
   ]
  },
  {
   "cell_type": "code",
   "execution_count": 2,
   "metadata": {
    "tags": [
     "pipeline-parameters"
    ]
   },
   "outputs": [],
   "source": [
    "LR = 0.001"
   ]
  },
  {
   "cell_type": "code",
   "execution_count": 3,
   "metadata": {
    "tags": [
     "block:prerocessing"
    ]
   },
   "outputs": [
    {
     "name": "stdout",
     "output_type": "stream",
     "text": [
      "labels: ['Bengal', 'Egyptian Mau', 'Persian', 'Siamese', 'Tabby']\n"
     ]
    }
   ],
   "source": [
    "data_preprocessing()\n",
    "label = set_label()"
   ]
  },
  {
   "cell_type": "code",
   "execution_count": 4,
   "metadata": {
    "tags": [
     "block:train",
     "prev:prerocessing"
    ]
   },
   "outputs": [
    {
     "name": "stdout",
     "output_type": "stream",
     "text": [
      "Found 12001 files belonging to 5 classes.\n",
      "Using 9601 files for training.\n",
      "Epoch 1/5\n",
      "150/150 - 95s - loss: 1.4166 - accuracy: 0.7075\n",
      "Epoch 2/5\n",
      "150/150 - 92s - loss: 1.0383 - accuracy: 0.7408\n",
      "Epoch 3/5\n",
      "150/150 - 85s - loss: 0.9846 - accuracy: 0.7551\n",
      "Epoch 4/5\n",
      "150/150 - 85s - loss: 0.7703 - accuracy: 0.7803\n",
      "Epoch 5/5\n",
      "150/150 - 86s - loss: 0.6138 - accuracy: 0.7861\n"
     ]
    }
   ],
   "source": [
    "model = model_train(label, LR)"
   ]
  },
  {
   "cell_type": "code",
   "execution_count": 7,
   "metadata": {
    "tags": [
     "block:evaluate",
     "prev:train"
    ]
   },
   "outputs": [
    {
     "name": "stdout",
     "output_type": "stream",
     "text": [
      "Found 12001 files belonging to 5 classes.\n",
      "Using 2400 files for validation.\n",
      "240/240 - 67s - loss: 0.6174 - accuracy: 0.7717 - auc: 0.9545\n",
      "accurancy: 0.7716666460037231\n"
     ]
    }
   ],
   "source": [
    "result = model_evaluate(model, label)\n",
    "accuracy = result[1]\n",
    "auc_roc = result[2]"
   ]
  },
  {
   "cell_type": "code",
   "execution_count": 8,
   "metadata": {
    "tags": [
     "block:serve",
     "prev:evaluate"
    ]
   },
   "outputs": [
    {
     "name": "stdout",
     "output_type": "stream",
     "text": [
      "[INFO]:tensorflow:Assets written to: /home/jovyan/saved_model_tmp/assets\n"
     ]
    },
    {
     "name": "stderr",
     "output_type": "stream",
     "text": [
      "2022-04-12 05:28:17 Kale serveutils:217       [INFO]     Starting serve procedure for model '<tensorflow.python.keras.engine.sequential.Sequential object at 0x7f700286dcf8>'\n",
      "2022-04-12 05:28:17 Kale podutils:84          [INFO]     Getting the current container name...\n",
      "2022-04-12 05:28:17 Kale podutils:90          [INFO]     Using NB_PREFIX env var '/notebook/kubeflow-user/cat2'. Container name: 'cat2'\n",
      "2022-04-12 05:28:17 Kale serveutils:242       [INFO]     Model is contained in volume 'workspace-cat2-xham3o5z6'\n",
      "2022-04-12 05:28:17 Kale marshalling          [INFO]     Saving tensorflow object using Tensorflow backend: model\n"
     ]
    },
    {
     "name": "stdout",
     "output_type": "stream",
     "text": [
      "[INFO]:tensorflow:Assets written to: /home/jovyan/.kale.kfserving.model.dir/model.tfkeras/1/assets\n"
     ]
    },
    {
     "name": "stderr",
     "output_type": "stream",
     "text": [
      "2022-04-12 05:28:54 Kale serveutils:247       [INFO]     Model saved successfully at '/home/jovyan/.kale.kfserving.model.dir/model.tfkeras'\n",
      "2022-04-12 05:28:54 Kale rokutils:59          [INFO]     Taking a snapshot of PVC workspace-cat2-xham3o5z6 in namespace kubeflow-user ...\n",
      "2022-04-12 05:28:54 Kale rokutils:265         [INFO]     Creating Rok bucket 'serving'...\n",
      "2022-04-12 05:28:54 Kale rokutils:275         [INFO]     Rok bucket 'serving' already exists\n",
      "2022-04-12 05:29:05 Kale rokutils:78          [INFO]     Successfully took Rok snapshot\n",
      "2022-04-12 05:29:05 Kale rokutils:225         [INFO]     Creating new PVC 'cat-detect-pvc-rvw4z' from Rok version ffb43dd1-be49-4ff3-ad0a-cf09f5cb8acb ...\n",
      "2022-04-12 05:29:05 Kale rokutils:237         [INFO]     Using Rok url: http://rok.rok.svc.cluster.local/swift/v1/kubeflow-user/serving/workspace-cat2-xham3o5z6?version=ffb43dd1-be49-4ff3-ad0a-cf09f5cb8acb\n",
      "2022-04-12 05:29:05 Kale rokutils:259         [INFO]     Successfully submitted PVC.\n",
      "2022-04-12 05:29:05 Kale utils:71             [INFO]     Removing path `/home/jovyan/.kale.kfserving.model.dir/model.tfkeras'\n",
      "2022-04-12 05:29:05 Kale utils:71             [INFO]     Removing path `/home/jovyan/.kale.kfserving-transformer.dir'\n",
      "2022-04-12 05:29:05 Kale serveutils:394       [INFO]     Saving InferenceService definition at 'cat-detect.kfserving.yaml'\n",
      "2022-04-12 05:29:05 Kale serveutils:421       [INFO]     Creating InferenceService 'cat-detect'...\n",
      "2022-04-12 05:29:08 Kale serveutils:429       [INFO]     Successfully created InferenceService: cat-detect\n",
      "2022-04-12 05:29:08 Kale serveutils:435       [INFO]     Adding owner references to PVC 'cat-detect-pvc-rvw4z' for InferenceService 'cat-detect'\n",
      "2022-04-12 05:29:08 Kale serveutils:478       [INFO]     Waiting for InferenceService 'cat-detect' to become ready...\n",
      "2022-04-12 05:29:11 Kale serveutils:478       [INFO]     Waiting for InferenceService 'cat-detect' to become ready...\n",
      "2022-04-12 05:29:14 Kale serveutils:478       [INFO]     Waiting for InferenceService 'cat-detect' to become ready...\n",
      "2022-04-12 05:29:17 Kale serveutils:478       [INFO]     Waiting for InferenceService 'cat-detect' to become ready...\n",
      "2022-04-12 05:29:20 Kale serveutils:478       [INFO]     Waiting for InferenceService 'cat-detect' to become ready...\n",
      "2022-04-12 05:29:23 Kale serveutils:478       [INFO]     Waiting for InferenceService 'cat-detect' to become ready...\n",
      "2022-04-12 05:29:26 Kale serveutils:478       [INFO]     Waiting for InferenceService 'cat-detect' to become ready...\n",
      "2022-04-12 05:29:29 Kale serveutils:478       [INFO]     Waiting for InferenceService 'cat-detect' to become ready...\n",
      "2022-04-12 05:29:32 Kale serveutils:478       [INFO]     Waiting for InferenceService 'cat-detect' to become ready...\n",
      "2022-04-12 05:29:35 Kale serveutils:478       [INFO]     Waiting for InferenceService 'cat-detect' to become ready...\n",
      "2022-04-12 05:29:38 Kale serveutils:478       [INFO]     Waiting for InferenceService 'cat-detect' to become ready...\n",
      "2022-04-12 05:29:55 Kale serveutils:478       [INFO]     Waiting for InferenceService 'cat-detect' to become ready...\n",
      "2022-04-12 05:29:58 Kale serveutils:478       [INFO]     Waiting for InferenceService 'cat-detect' to become ready...\n",
      "2022-04-12 05:30:01 Kale serveutils:478       [INFO]     Waiting for InferenceService 'cat-detect' to become ready...\n",
      "2022-04-12 05:30:04 Kale serveutils:478       [INFO]     Waiting for InferenceService 'cat-detect' to become ready...\n",
      "2022-04-12 05:30:07 Kale serveutils:478       [INFO]     Waiting for InferenceService 'cat-detect' to become ready...\n",
      "2022-04-12 05:30:10 Kale serveutils:478       [INFO]     Waiting for InferenceService 'cat-detect' to become ready...\n",
      "2022-04-12 05:30:13 Kale serveutils:478       [INFO]     Waiting for InferenceService 'cat-detect' to become ready...\n",
      "2022-04-12 05:30:16 Kale serveutils:478       [INFO]     Waiting for InferenceService 'cat-detect' to become ready...\n",
      "2022-04-12 05:30:19 Kale serveutils:478       [INFO]     Waiting for InferenceService 'cat-detect' to become ready...\n",
      "2022-04-12 05:30:22 Kale serveutils:478       [INFO]     Waiting for InferenceService 'cat-detect' to become ready...\n",
      "2022-04-12 05:30:26 Kale serveutils:478       [INFO]     Waiting for InferenceService 'cat-detect' to become ready...\n",
      "2022-04-12 05:30:29 Kale serveutils:495       [INFO]     InferenceService 'cat-detect' is ready.\n"
     ]
    }
   ],
   "source": [
    "kfserving = model_serving(model)"
   ]
  },
  {
   "cell_type": "code",
   "execution_count": 9,
   "metadata": {
    "tags": [
     "pipeline-metrics"
    ]
   },
   "outputs": [
    {
     "name": "stdout",
     "output_type": "stream",
     "text": [
      "0.7716666460037231\n",
      "0.954472541809082\n"
     ]
    }
   ],
   "source": [
    "print(accuracy)\n",
    "print(auc_roc)"
   ]
  }
 ],
 "metadata": {
  "kernelspec": {
   "display_name": "Python 3",
   "language": "python",
   "name": "python3"
  },
  "kubeflow_notebook": {
   "autosnapshot": false,
   "docker_image": "gcr.io/arrikto/jupyter-kale-py36@sha256:5c30d30c0459b0d7597293900be0897d5595a819f5a8311765cd928f87835d44",
   "experiment": {
    "id": "new",
    "name": "cat-breed-pipeline-v1"
   },
   "experiment_name": "cat-breed-pipeline-v1",
   "katib_metadata": {
    "algorithm": {
     "algorithmName": "grid"
    },
    "maxFailedTrialCount": 3,
    "maxTrialCount": 4,
    "objective": {
     "additionalMetricNames": [],
     "goal": 80,
     "objectiveMetricName": "acc",
     "type": "maximize"
    },
    "parallelTrialCount": 1,
    "parameters": [
     {
      "feasibleSpace": {
       "list": [
        "0.001",
        "0.005",
        "0.0001",
        "0.0005"
       ]
      },
      "name": "LR",
      "parameterType": "categorical"
     }
    ]
   },
   "katib_run": false,
   "pipeline_description": "zero to one model pipeline for cat cnn",
   "pipeline_name": "cat-breed-pipeline",
   "snapshot_volumes": false,
   "steps_defaults": [
    "label:access-ml-pipeline:true",
    "label:access-rok:true"
   ],
   "volumes": [
    {
     "annotations": [],
     "mount_point": "/home/jovyan",
     "name": "workspace-cat2-xham3o5z6",
     "size": 5,
     "size_type": "Gi",
     "snapshot": false,
     "type": "pvc"
    },
    {
     "annotations": [],
     "mount_point": "/home/jovyan/cat-breed-vol-1",
     "name": "cat-breed-vol-1-iwqncg7e2",
     "size": 5,
     "size_type": "Gi",
     "snapshot": false,
     "type": "pvc"
    }
   ]
  },
  "language_info": {
   "codemirror_mode": {
    "name": "ipython",
    "version": 3
   },
   "file_extension": ".py",
   "mimetype": "text/x-python",
   "name": "python",
   "nbconvert_exporter": "python",
   "pygments_lexer": "ipython3",
   "version": "3.6.9"
  }
 },
 "nbformat": 4,
 "nbformat_minor": 4
}
