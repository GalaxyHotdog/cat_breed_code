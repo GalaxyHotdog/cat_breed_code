{
 "cells": [
  {
   "cell_type": "code",
   "execution_count": 1,
   "metadata": {
    "tags": [
     "imports"
    ]
   },
   "outputs": [],
   "source": [
    "import git\n",
    "from datetime import date\n",
    "from datetime import timedelta\n",
    "\n",
    "import os\n",
    "from bbid import bbid\n",
    "\n",
    "from pathlib import Path\n",
    "\n",
    "import string\n",
    "import random\n",
    "\n",
    "import tensorflow as tf\n",
    "import numpy as np\n",
    "import json\n",
    "import zipfile\n",
    "import shutil\n",
    "\n",
    "import kfp\n",
    "\n",
    "import urllib\n",
    "\n",
    "from kale.common import rokutils\n",
    "from cat_cnn_component.cat_preprocessing import set_label\n",
    "\n",
    "import requests\n",
    "import pickle\n",
    "import filecmp\n",
    "from alibi_detect.utils.saving import save_detector, load_detector\n",
    "from alibi_detect.cd import MMDDrift, FETDrift\n",
    "from PIL import Image\n",
    "from skimage import io\n",
    "import gc\n",
    "\n",
    "from tensorflow.keras.layers import Conv2D, Dense, Flatten, InputLayer, Reshape\n",
    "from alibi_detect.cd.tensorflow import preprocess_drift\n",
    "from functools import partial"
   ]
  },
  {
   "cell_type": "code",
   "execution_count": null,
   "metadata": {
    "tags": [
     "pipeline-parameters"
    ]
   },
   "outputs": [],
   "source": []
  },
  {
   "cell_type": "code",
   "execution_count": 3,
   "metadata": {
    "tags": [
     "block:is_code_updated"
    ]
   },
   "outputs": [],
   "source": [
    "repo = git.Repo('.')\n",
    "o = repo.remotes.origin\n",
    "o.pull()\n",
    "\n",
    "last_week = date.today() - timedelta(7)"
   ]
  },
  {
   "cell_type": "code",
   "execution_count": 4,
   "metadata": {
    "tags": []
   },
   "outputs": [],
   "source": [
    "commits = list(repo.iter_commits(since=last_week))"
   ]
  },
  {
   "cell_type": "code",
   "execution_count": 5,
   "metadata": {
    "tags": []
   },
   "outputs": [],
   "source": [
    "code_updated = False\n",
    "\n",
    "for commit in commits:\n",
    "    if ' --no-trigger' not in commit.message:\n",
    "        code_updated = True\n",
    "        break"
   ]
  },
  {
   "cell_type": "code",
   "execution_count": 6,
   "metadata": {
    "tags": []
   },
   "outputs": [
    {
     "name": "stdout",
     "output_type": "stream",
     "text": [
      "is_code_updated: False\n"
     ]
    }
   ],
   "source": [
    "print(\"is_code_updated: \" + str(code_updated))"
   ]
  },
  {
   "cell_type": "code",
   "execution_count": 2,
   "metadata": {
    "tags": [
     "block:is_dataset_updated"
    ]
   },
   "outputs": [],
   "source": [
    "dataset_updated = False"
   ]
  },
  {
   "cell_type": "code",
   "execution_count": 10,
   "metadata": {
    "tags": [
     "skip"
    ]
   },
   "outputs": [],
   "source": [
    "url = \"https://w0qgta.ch.files.1drv.com/y4mVLaoYIGxSvVC86kXmom2Y_aIQtEEPczgzOaL66sISEaZrFwZLtTiR9QBg_VIHnKYjQ_fM9OKZY_7zKiftxAgsTVotyhouQP5RhkzPneehALxWrHn2yg6z6t-nF71mN6NLCTmjZtFYX3tt-GK72viIRDcDZDGjTGb1LYc5dsM6K-bcpSoKLPNKrKYbwAtSqyV72TYM7EIWvIMMYh_UAh_cg\"\n",
    "try:\n",
    "    os.remove('/home/jovyan/cat-breed-vol-1/new_dataset.zip')\n",
    "except:\n",
    "    pass\n",
    "with open('/home/jovyan/cat-breed-vol-1/new_dataset.zip', 'wb') as out_file:\n",
    "    content = requests.get(url, stream=True).content\n",
    "    out_file.write(content)"
   ]
  },
  {
   "cell_type": "code",
   "execution_count": 11,
   "metadata": {
    "tags": [
     "skip"
    ]
   },
   "outputs": [],
   "source": [
    "dataset_updated = not filecmp.cmp('/home/jovyan/cat-breed-vol-1/new_dataset.zip', '/home/jovyan/cat-breed-vol-1/dataset.zip')\n",
    "if dataset_updated is True:\n",
    "    os.remove('/home/jovyan/cat-breed-vol-1/dataset.zip')\n",
    "    shutil.rmtree('/home/jovyan/cat-breed-vol-1/dataset/')\n",
    "    with zipfile.ZipFile('/home/jovyan/cat-breed-vol-1/new_dataset.zip', 'r') as zip_ref:\n",
    "        zip_ref.extractall('/home/jovyan/cat-breed-vol-1/dataset/')\n",
    "    os.rename('/home/jovyan/cat-breed-vol-1/new_dataset.zip', '/home/jovyan/cat-breed-vol-1/dataset.zip')"
   ]
  },
  {
   "cell_type": "code",
   "execution_count": 3,
   "metadata": {
    "tags": [
     "block:is_data_drifted",
     "prev:is_dataset_updated"
    ]
   },
   "outputs": [],
   "source": [
    "Path.isdir = Path.is_dir"
   ]
  },
  {
   "cell_type": "code",
   "execution_count": 4,
   "metadata": {
    "tags": []
   },
   "outputs": [],
   "source": [
    "if os.path.exists('/home/jovyan/cat-breed-vol-1/drift/'):\n",
    "    shutil.rmtree('/home/jovyan/cat-breed-vol-1/drift/')"
   ]
  },
  {
   "cell_type": "code",
   "execution_count": 5,
   "metadata": {
    "tags": []
   },
   "outputs": [
    {
     "name": "stdout",
     "output_type": "stream",
     "text": [
      "labels: ['Bengal', 'Egyptian Mau', 'Persian', 'Siamese', 'Tabby']\n"
     ]
    }
   ],
   "source": [
    "labels = set_label()"
   ]
  },
  {
   "cell_type": "code",
   "execution_count": 6,
   "metadata": {
    "tags": []
   },
   "outputs": [
    {
     "name": "stdout",
     "output_type": "stream",
     "text": [
      " OK : 306059656_c4fafc4a87_o.jpg\n",
      " OK : bengalcat-56a2bcd95f9b58b7d0cdf798.jpg\n",
      " OK : image\n",
      " OK : lying_bengal_cat_widescreen_wallpape.jpg\n",
      " OK : 25%2BGorgeous%2BBengal%2BCat%2BBreed.jpg\n",
      " OK : 435a50f155c74f04644c7d48174b415e.jpg\n",
      " OK : 25%2BGorgeous%2BBengal%2BCat%2BBreed-1.jpg\n",
      " OK : a453d75a3f2e8b000fb6b7188d342238.jpg\n",
      " OK : 2308642374_57489bb2ce_o-57b742c15f9b.jpg\n",
      " OK : cc87feaa37aff4af7bee0eececc94ba5.jpg\n",
      " OK : image-1\n",
      " OK : 3931eb090308eeaa58719fe66b9926c3.jpg\n",
      "1\n",
      " OK : 7705350_f496.jpg\n",
      " OK : bengal-cat-not-a-pet-for-everyone.jpg\n",
      " OK : bengal1.jpg\n",
      " OK : DSC01651.jpg\n",
      " OK : bengal-cat-03.jpg\n",
      " OK : 8bd4e0252c09ed243bd329bde4f6d6f0.jpg\n",
      " OK : 407a0798b608c6fad50ad67dc56966c8.jpg\n",
      " OK : 59c8741a1dace0395133e9f11b26d7a6.jpg\n",
      " OK : 623b21e78b120d015c733b4a48d90365.jpg\n",
      " OK : 4734659828_39868fe4cd_z.jpg\n",
      " OK : cd575f0d7afa1027ab86b193ba3749db.jpg\n",
      " OK : Egyptian-Mau-Cat-Picture.jpg\n",
      "FAIL: egyptian mau 2.jpg\n",
      "SKIP: Invalid image, not saving Egyptian-mau-close.jpg\n",
      "SKIP: Invalid image, not saving the-egyptian-mau-cat-4.jpg\n",
      "SKIP: Invalid image, not saving Egyptian-mau-double.jpg\n",
      "2\n",
      " OK : Egyptian-Mau-AP-1XY303-645sm3614.jpg\n",
      " OK : Egyptian-Mau-Kitten.png\n",
      " OK : egyptian-mau7.jpg\n",
      " OK : breed_information_persian_x2.jpg\n",
      " OK : persian_cat_x13.jpg\n",
      " OK : PersianCatJooPedroNeves-5f6b75877087.jpg\n",
      " OK : 1280-633113756-white-persian-cats.jpg\n",
      "FAIL: \n",
      " OK : persian-cat-breed-pictures-1.jpg\n",
      " OK : dea0186884db1b6c8f022d27f2c099ee.jpg\n",
      " OK : dcfc2cabb882a8d7e8413fd8ccb1ece3.jpg\n",
      " OK : Persian-Cat-Breed-Profile-Ginger-Cat.jpg\n",
      " OK : the-persian-cat-14.jpg\n",
      "SKIP: Invalid image, not saving Persian-kitten.jpg\n",
      "FAIL: \n",
      "3\n",
      " OK : istock_000003952713_large.jpg\n",
      " OK : persian-cat-1024x1016.jpg\n",
      "SKIP: Invalid image, not saving Persian-pair.jpg\n",
      "FAIL: 1jprb6od8bsz.jpg\n",
      " OK : siamese_cat_x.jpg\n",
      " OK : siamese-2.jpg\n",
      " OK : c854a5a1ea9d7a45288dd3e84f53143a.jpg\n",
      " OK : The-Siamese-Cat-5.jpg\n",
      " OK : siamese-cat.jpg\n",
      " OK : siamese5.jpg\n",
      " OK : young-cat--kitten-of-siam--oriental-.jpg\n",
      " OK : cace5965be0115d02a119e4679c284c1.jpg\n",
      " OK : 8.jpg\n",
      " OK : siamese-cat-breed.jpg\n",
      "4\n",
      " OK : siamese-cats1.jpg\n",
      " OK : siamese-kitten-scaled.jpg\n",
      " OK : siamese-cat-health.jpg\n",
      " OK : Siamese_Cat.jpg\n",
      " OK : 67dd59a71ac467ca3224dd3ce87b1a6e.jpg\n",
      " OK : tabby-kittens-892215.jpg\n",
      " OK : 1200-530756478-mackerel-tabby-cat.jpg\n",
      " OK : GettyImages-584178259-5a721010119fa8.jpg\n",
      " OK : european-shorthair-striped-cat-with-.jpg\n",
      " OK : messy+tabby.jpg\n",
      " OK : Rowser0013.jpg\n",
      " OK : image2-e1453849817704.jpeg\n",
      "SKIP: Invalid image, not saving Tabby_cat-teeth.jpg\n",
      "5\n",
      "name 'y_dataset' is not defined\n",
      "Error: ['2308642374_57489bb2ce_o-57b742c15f9b', 'jpg']\n",
      "name 'y_dataset' is not defined\n",
      "Error: ['Egyptian-Mau-Cat-Picture', 'jpg']\n",
      "name 'y_dataset' is not defined\n",
      "Error: ['PersianCatJooPedroNeves-5f6b75877087', 'jpg']\n",
      "name 'y_dataset' is not defined\n",
      "Error: ['siamese5', 'jpg']\n",
      "name 'y_dataset' is not defined\n",
      "Error: ['GettyImages-584178259-5a721010119fa8', 'jpg']\n",
      "FAIL: \n",
      "[WARNING]:tensorflow:No training configuration found in the save file, so the model was *not* compiled. Compile it manually.\n",
      "is_data_drifted: False\n"
     ]
    }
   ],
   "source": [
    "if dataset_updated is False:\n",
    "    NUMBER_OF_IMAGES_PER_CLASS = 12\n",
    "    count = 0\n",
    "    for label in labels:\n",
    "        query_string = label + ' cat breed'\n",
    "        output_dir = os.path.join(\"/home/jovyan/cat-breed-vol-1/drift\")\n",
    "        bbid(query_string, os.path.join(output_dir, label), NUMBER_OF_IMAGES_PER_CLASS)\n",
    "        count+=1\n",
    "        print(count)\n",
    "        \n",
    "    \n",
    "    dataset = []\n",
    "    label_names = labels\n",
    "\n",
    "    for label in label_names:\n",
    "        path = \"/home/jovyan/cat-breed-vol-1/drift/\" + label + \"/\"\n",
    "        for item in os.listdir(path):\n",
    "            try:\n",
    "                if item.split('.')[1] == 'jpg':\n",
    "                    image = io.imread(path+item)\n",
    "                    image = Image.fromarray(image, 'RGB')\n",
    "                    image = image.resize((200, 200))\n",
    "                    dataset.append(np.array(image))\n",
    "                    y_dataset.append(label_names.index(label))\n",
    "            except Exception as e:\n",
    "                print(e)\n",
    "                print('Error: ' + str(item.split('.')))\n",
    "                break\n",
    "\n",
    "    dataset = np.array(dataset)\n",
    "    \n",
    "    cd = load_detector('/home/jovyan/cat-breed-vol-1/drift_detection_model/KSDrift/')\n",
    "    preds = cd.predict(dataset)\n",
    "    data_drifted = bool(preds['data']['is_drift'])\n",
    "    \n",
    "    print(\"is_data_drifted: \" + str(data_drifted))\n",
    "else:\n",
    "    print(\"Dataset updated, skipped data drift detection.\")\n",
    "    data_drifted = False"
   ]
  },
  {
   "cell_type": "code",
   "execution_count": 8,
   "metadata": {
    "tags": [
     "block:is_concept_drifted",
     "prev:is_data_drifted",
     "prev:is_dataset_updated"
    ]
   },
   "outputs": [
    {
     "name": "stdout",
     "output_type": "stream",
     "text": [
      "labels: ['Bengal', 'Egyptian Mau', 'Persian', 'Siamese', 'Tabby']\n",
      "Error: ['Egyptian_Mau_129', 'jpg']\n",
      "labels: ['Bengal', 'Egyptian Mau', 'Persian', 'Siamese', 'Tabby']\n",
      "Error: ['image']\n",
      "Error: ['The-Siamese-Cat-5', 'jpg']\n",
      "is_concept_drifted: False\n"
     ]
    }
   ],
   "source": [
    "def unison_shuffled_copies(a, b):\n",
    "    assert len(a) == len(b)\n",
    "    p = np.random.permutation(len(a))\n",
    "    return a[p], b[p]\n",
    "\n",
    "if dataset_updated is False:\n",
    "    dataset = []\n",
    "    y_dataset = []\n",
    "    label_names = set_label()\n",
    "    for label in label_names:\n",
    "        count = 0\n",
    "        path = \"/home/jovyan/cat-breed-vol-1/dataset/dataset/images/\" + label + \"/\"\n",
    "        items = os.listdir(path)\n",
    "        random.Random(123).shuffle(items)\n",
    "        for item in items[0:500]:\n",
    "            try:\n",
    "                if item.split('.')[1] == 'jpg':\n",
    "                    image = io.imread(path+item)\n",
    "                    image = Image.fromarray(image, 'RGB')\n",
    "                    image = image.resize((200, 200))\n",
    "                    dataset.append(np.array(image))\n",
    "                    y_dataset.append(label_names.index(label))\n",
    "            except:\n",
    "                print('Error: ' + str(item.split('.')))\n",
    "                break\n",
    "                \n",
    "    dataset = np.array(dataset)\n",
    "    y_dataset = np.array(y_dataset)\n",
    "    \n",
    "    dataset, y_dataset = unison_shuffled_copies(dataset, y_dataset)\n",
    "    model = tf.keras.models.load_model('/home/jovyan/saved_model_tmp/')\n",
    "    \n",
    "    preds = model.predict(dataset[0:500])\n",
    "    res = preds.argmax(axis=1)\n",
    "    res = (res==y_dataset[0:500]).astype(int)\n",
    "    cd_fet = FETDrift(res, p_val=0.05, alternative='less')\n",
    "    \n",
    "    dataset = []\n",
    "    y_dataset = []\n",
    "    label_names = set_label()\n",
    "    for label in label_names:\n",
    "        path = \"/home/jovyan/cat-breed-vol-1/drift/\" + label + \"/\"\n",
    "        for item in os.listdir(path):\n",
    "            try:\n",
    "                if item.split('.')[1] == 'jpg':\n",
    "                    image = io.imread(path+item)\n",
    "                    image = Image.fromarray(image, 'RGB')\n",
    "                    image = image.resize((200, 200))\n",
    "                    dataset.append(np.array(image))\n",
    "                    y_dataset.append(label_names.index(label))\n",
    "            except:\n",
    "                print('Error: ' + str(item.split('.')))\n",
    "                break\n",
    "    dataset = np.array(dataset)\n",
    "    y_dataset = np.array(y_dataset)\n",
    "    preds = model.predict(dataset)\n",
    "    res = preds.argmax(axis=1)\n",
    "    res = (res==y_dataset).astype(int)\n",
    "    \n",
    "    preds = cd_fet.predict(res)\n",
    "    concept_drifted = bool(preds['data']['is_drift'])\n",
    "    print(\"is_concept_drifted: \" + str(concept_drifted))\n",
    "else:\n",
    "    print(\"Dataset updated, skipped concept drift detection.\")\n",
    "    concept_drifted = False"
   ]
  },
  {
   "cell_type": "code",
   "execution_count": 9,
   "metadata": {
    "tags": [
     "block:is_user_report",
     "prev:is_dataset_updated"
    ]
   },
   "outputs": [
    {
     "name": "stdout",
     "output_type": "stream",
     "text": [
      "is_user_report_retraining: False\n"
     ]
    }
   ],
   "source": [
    "try:\n",
    "    response = requests.get(\n",
    "             'http://10.0.2.2:8000/prediction/is_retraining')\n",
    "    user_training_needed = json.loads(response.text)['training_needed']\n",
    "except:\n",
    "    print(\"Error connecting to frontend server, default to False.\")\n",
    "    user_training_needed = False\n",
    "print(\"is_user_report_retraining: \" + str(user_training_needed))"
   ]
  },
  {
   "cell_type": "code",
   "execution_count": 10,
   "metadata": {
    "tags": [
     "block:snapshot",
     "prev:is_user_report",
     "prev:is_concept_drifted"
    ]
   },
   "outputs": [],
   "source": [
    "dataset_mutated = False\n",
    "if data_drifted or concept_drifted:\n",
    "    labels = set_label()\n",
    "    for label in labels:\n",
    "        for file in os.listdir('/home/jovyan/cat-breed-vol-1/drift/'+ label):\n",
    "            try:\n",
    "                os.rename(os.path.join('/home/jovyan/cat-breed-vol-1/drift',label,file), os.path.join('/home/jovyan/cat-breed-vol-1/dataset/dataset/images', label, file))\n",
    "            except:\n",
    "                pass\n",
    "    dataset_mutated = True"
   ]
  },
  {
   "cell_type": "code",
   "execution_count": 11,
   "metadata": {
    "tags": []
   },
   "outputs": [],
   "source": [
    "if user_training_needed:\n",
    "    url = 'http://10.0.2.2:8000/prediction/new_dataset'\n",
    "    location = ''\n",
    "    try:\n",
    "        os.remove(\"/home/jovyan/cat-breed-vol-1/dataset_user.zip\")\n",
    "        shutil.rmtree('/home/jovyan/cat-breed-vol-1/dataset_user/')\n",
    "    except:\n",
    "        pass\n",
    "    urllib.request.urlretrieve(url, '/home/jovyan/cat-breed-vol-1/dataset_user.zip')\n",
    "    with zipfile.ZipFile('/home/jovyan/cat-breed-vol-1/dataset_user.zip', 'r') as zip_ref:\n",
    "        zip_ref.extractall('/home/jovyan/cat-breed-vol-1/dataset_user/')\n",
    "    \n",
    "    for label in labels:\n",
    "        for file in os.listdir(os.path.join('/home/jovyan/cat-breed-vol-1/dataset_user/dataset/images', label)):\n",
    "            os.rename(os.path.join('/home/jovyan/cat-breed-vol-1/dataset_user/dataset/images', label, file), os.path.join('/home/jovyan/cat-breed-vol-1/dataset/dataset/images', label, file))\n",
    "    dataset_mutated = True"
   ]
  },
  {
   "cell_type": "code",
   "execution_count": 12,
   "metadata": {
    "tags": []
   },
   "outputs": [],
   "source": [
    "if dataset_mutated is True or dataset_updated is True:\n",
    "    print(\"snapshoting pvc containing dataset\")\n",
    "    BUCKET_NAME='cat-dataset-bucket'\n",
    "    volume_name='cat-breed-vol-1-iwqncg7e2'\n",
    "\n",
    "    task_info = rokutils.snapshot_pvc(volume_name,\n",
    "                                      bucket=BUCKET_NAME,\n",
    "                                      wait=True)\n",
    "    task = rokutils.get_task(task_info[\"task\"][\"id\"],\n",
    "                             bucket=BUCKET_NAME)\n",
    "    print(\"snapshot completed. task_id = \" + str(task_info[\"task\"][\"id\"]))"
   ]
  },
  {
   "cell_type": "code",
   "execution_count": 13,
   "metadata": {
    "tags": []
   },
   "outputs": [],
   "source": [
    "def _bytes_feature(value):\n",
    "  \"\"\"Returns a bytes_list from a string / byte.\"\"\"\n",
    "  if isinstance(value, type(tf.constant(0))):\n",
    "    value = value.numpy() # BytesList won't unpack a string from an EagerTensor.\n",
    "  return tf.train.Feature(bytes_list=tf.train.BytesList(value=[value]))\n",
    "\n",
    "def _float_feature(value):\n",
    "  \"\"\"Returns a float_list from a float / double.\"\"\"\n",
    "  return tf.train.Feature(float_list=tf.train.FloatList(value=[value]))\n",
    "\n",
    "def _int64_feature(value):\n",
    "  \"\"\"Returns an int64_list from a bool / enum / int / uint.\"\"\"\n",
    "  return tf.train.Feature(int64_list=tf.train.Int64List(value=[value]))"
   ]
  },
  {
   "cell_type": "code",
   "execution_count": 14,
   "metadata": {
    "tags": []
   },
   "outputs": [],
   "source": [
    "def image_example(image_string, label):\n",
    "    image_shape = tf.io.decode_jpeg(image_string).shape\n",
    "\n",
    "    feature = {\n",
    "      'height': _int64_feature(image_shape[0]),\n",
    "      'width': _int64_feature(image_shape[1]),\n",
    "      'depth': _int64_feature(image_shape[2]),\n",
    "      'label': _int64_feature(label),\n",
    "      'image_raw': _bytes_feature(image_string),\n",
    "    }\n",
    "\n",
    "    return tf.train.Example(features=tf.train.Features(feature=feature))"
   ]
  },
  {
   "cell_type": "code",
   "execution_count": 15,
   "metadata": {
    "tags": []
   },
   "outputs": [
    {
     "name": "stdout",
     "output_type": "stream",
     "text": [
      "labels: ['Bengal', 'Egyptian Mau', 'Persian', 'Siamese', 'Tabby']\n"
     ]
    }
   ],
   "source": [
    "labels = set_label()"
   ]
  },
  {
   "cell_type": "code",
   "execution_count": 16,
   "metadata": {
    "tags": []
   },
   "outputs": [],
   "source": [
    "if dataset_updated is True or dataset_mutated is True:\n",
    "    print(\"generating tfrecord\")\n",
    "    try:\n",
    "        os.remove('/home/jovyan/cat-breed-vol-1/images-cat.tfrecords')\n",
    "    except:\n",
    "        pass\n",
    "\n",
    "    record_file = '/home/jovyan/cat-breed-vol-1/images-cat.tfrecords'\n",
    "    with tf.io.TFRecordWriter(record_file) as writer:\n",
    "        for label in labels:\n",
    "            for filename in os.listdir('/home/jovyan/cat-breed-vol-1/dataset/dataset/images/'+ label):\n",
    "                b_dir = '/home/jovyan/cat-breed-vol-1/dataset/dataset/images/'+ label +'/'+filename\n",
    "                image_string = open(b_dir, 'rb').read()\n",
    "                try:\n",
    "                    tf_example = image_example(image_string, labels.index(label))\n",
    "                    writer.write(tf_example.SerializeToString())\n",
    "                except:\n",
    "                    print('error file: ' + str(filename))\n",
    "    print(\"tfrecord generated\")"
   ]
  },
  {
   "cell_type": "code",
   "execution_count": 17,
   "metadata": {
    "tags": [
     "skip"
    ]
   },
   "outputs": [
    {
     "name": "stdout",
     "output_type": "stream",
     "text": [
      "False\n"
     ]
    }
   ],
   "source": [
    "print(data_drifted or code_updated or concept_drifted or dataset_mutated)"
   ]
  },
  {
   "cell_type": "code",
   "execution_count": 18,
   "metadata": {
    "tags": [
     "block:trigger_pipeline",
     "prev:snapshot",
     "prev:is_code_updated",
     "prev:is_dataset_updated"
    ]
   },
   "outputs": [],
   "source": [
    "def random_string(size=10, chars=string.ascii_lowercase + string.digits):\n",
    "    return ''.join(random.choice(chars) for _ in range(size))\n",
    "\n",
    "def listToString(s):\n",
    "    str1 = \" \" \n",
    "    return (str1.join(s))\n",
    "\n",
    "if data_drifted or code_updated or concept_drifted or dataset_mutated or dataset_updated:\n",
    "    client = kfp.Client()\n",
    "    experiment = client.get_experiment(experiment_name='cat-breed-pipeline-v1')\n",
    "    pipeline = client.get_pipeline(client.get_pipeline_id('cat-breed-pipeline'))\n",
    "    obj = client.run_pipeline(experiment_id=experiment.id, pipeline_id=pipeline.id, job_name=random_string())\n",
    "    print(\"model retraining pipeline triggered, run_id = \" + str(obj.id))\n",
    "    client.wait_for_run_completion(obj.id, 1800)\n",
    "    print(str(obj.id) + \"run completed\")\n",
    "    data = {\n",
    "    'labels': labels,\n",
    "    }\n",
    "    with open('/home/jovyan/cat-breed-vol-1/labels_pickled', 'wb') as f:\n",
    "        # Pickle the 'data' dictionary using the highest protocol available.\n",
    "        pickle.dump(data, f, pickle.HIGHEST_PROTOCOL)\n",
    "    value = {\"name\": obj.id}\n",
    "    files = {'tfrecord': open('/home/jovyan/cat-breed-vol-1/images-cat.tfrecords','rb'), 'labels_pickled':open('/home/jovyan/cat-breed-vol-1/labels_pickled', 'rb')}\n",
    "    r = requests.post('http://10.0.2.2:8000/prediction/download_tfrecord', files=files, data=value)\n",
    "    print(\"tfrecord and new labels uploaded to frontend\")\n",
    "\n"
   ]
  },
  {
   "cell_type": "code",
   "execution_count": 19,
   "metadata": {
    "tags": [
     "block:retrain_mmddrift",
     "prev:trigger_pipeline"
    ]
   },
   "outputs": [],
   "source": [
    "if dataset_updated or dataset_mutated:\n",
    "    dataset = []\n",
    "    label_names = set_label()\n",
    "    for label in label_names:\n",
    "        count = 0\n",
    "        path = \"/home/jovyan/cat-breed-vol-1/dataset/dataset/images/\" + label + \"/\"\n",
    "        items = os.listdir(path)\n",
    "        random.Random(123).shuffle(items)\n",
    "        for item in items[0:500]:\n",
    "            try:\n",
    "                if item.split('.')[1] == 'jpg':\n",
    "                    image = io.imread(path+item)\n",
    "                    image = Image.fromarray(image, 'RGB')\n",
    "                    image = image.resize((200, 200))\n",
    "                    dataset.append(np.array(image))\n",
    "                    y_dataset.append(label_names.index(label))\n",
    "            except:\n",
    "                print('Error: ' + str(item.split('.')))\n",
    "                break\n",
    "\n",
    "    dataset = np.array(dataset)\n",
    "    \n",
    "    encoding_dim = 32\n",
    "    encoder_net = tf.keras.Sequential(\n",
    "      [\n",
    "          InputLayer(input_shape=(200, 200, 3)),\n",
    "          Conv2D(64, 4, strides=2, padding='same', activation=tf.nn.relu),\n",
    "          Conv2D(128, 4, strides=2, padding='same', activation=tf.nn.relu),\n",
    "          Conv2D(512, 4, strides=2, padding='same', activation=tf.nn.relu),\n",
    "          Flatten(),\n",
    "          Dense(encoding_dim,)\n",
    "      ]\n",
    "    )\n",
    "\n",
    "    preprocess_fn = partial(preprocess_drift, model=encoder_net, batch_size=64)\n",
    "\n",
    "    cd = KSDrift(dataset, p_val=.05, preprocess_fn=preprocess_fn)\n",
    "\n",
    "    save_detector(cd, '/home/jovyan/cat-breed-vol-1/drift_detection_model/KSDrift/')"
   ]
  },
  {
   "cell_type": "code",
   "execution_count": 20,
   "metadata": {
    "tags": [
     "pipeline-metrics"
    ]
   },
   "outputs": [
    {
     "name": "stdout",
     "output_type": "stream",
     "text": [
      "False\n",
      "False\n",
      "False\n",
      "False\n",
      "False\n"
     ]
    }
   ],
   "source": [
    "print(code_updated)\n",
    "print(dataset_updated)\n",
    "print(data_drifted)\n",
    "print(concept_drifted)\n",
    "print(user_training_needed)"
   ]
  },
  {
   "cell_type": "code",
   "execution_count": null,
   "metadata": {
    "tags": []
   },
   "outputs": [],
   "source": []
  }
 ],
 "metadata": {
  "kernelspec": {
   "display_name": "Python 3",
   "language": "python",
   "name": "python3"
  },
  "kubeflow_notebook": {
   "autosnapshot": false,
   "docker_image": "gcr.io/arrikto/jupyter-kale-py36@sha256:5c30d30c0459b0d7597293900be0897d5595a819f5a8311765cd928f87835d44",
   "experiment": {
    "id": "new",
    "name": "cat-serve-test"
   },
   "experiment_name": "cat-serve-test",
   "katib_metadata": {
    "algorithm": {
     "algorithmName": "grid"
    },
    "maxFailedTrialCount": 3,
    "maxTrialCount": 12,
    "objective": {
     "objectiveMetricName": "",
     "type": "minimize"
    },
    "parallelTrialCount": 3,
    "parameters": []
   },
   "katib_run": false,
   "pipeline_description": "trigger for model",
   "pipeline_name": "cat-detect-trigger",
   "snapshot_volumes": false,
   "steps_defaults": [
    "label:access-ml-pipeline:true",
    "label:access-rok:true"
   ],
   "volumes": [
    {
     "annotations": [],
     "mount_point": "/home/jovyan",
     "name": "workspace-cat2-xham3o5z6",
     "size": 5,
     "size_type": "Gi",
     "snapshot": false,
     "type": "pvc"
    },
    {
     "annotations": [],
     "mount_point": "/home/jovyan/cat-breed-vol-1",
     "name": "cat-breed-vol-1-iwqncg7e2",
     "size": 1,
     "size_type": "Gi",
     "snapshot": false,
     "snapshot_name": "",
     "type": "pvc"
    },
    {
     "annotations": [],
     "mount_point": "/home/jovyan",
     "name": "workspace-cat2-xham3o5z6",
     "size": 5,
     "size_type": "Gi",
     "snapshot": false,
     "type": "clone"
    },
    {
     "annotations": [],
     "mount_point": "/home/jovyan/cat-breed-vol-1",
     "name": "cat-breed-vol-1-iwqncg7e2",
     "size": 5,
     "size_type": "Gi",
     "snapshot": false,
     "type": "clone"
    }
   ]
  },
  "language_info": {
   "codemirror_mode": {
    "name": "ipython",
    "version": 3
   },
   "file_extension": ".py",
   "mimetype": "text/x-python",
   "name": "python",
   "nbconvert_exporter": "python",
   "pygments_lexer": "ipython3",
   "version": "3.6.9"
  }
 },
 "nbformat": 4,
 "nbformat_minor": 4
}
